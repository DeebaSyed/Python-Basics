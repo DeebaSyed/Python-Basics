{
  "nbformat": 4,
  "nbformat_minor": 0,
  "metadata": {
    "colab": {
      "provenance": []
    },
    "kernelspec": {
      "name": "python3",
      "display_name": "Python 3"
    },
    "language_info": {
      "name": "python"
    }
  },
  "cells": [
    {
      "cell_type": "markdown",
      "source": [],
      "metadata": {
        "id": "TOMEaeRKhgd-"
      }
    },
    {
      "cell_type": "markdown",
      "source": [
        "# Phython Basics\n"
      ],
      "metadata": {
        "id": "zlMchwVwh1Vg"
      }
    },
    {
      "cell_type": "markdown",
      "source": [
        "1. What is Python, and why is it popular?\n",
        "      - Python is a general level programming language and is widely used in various industries like data science, automation, image processing etc.\n",
        "      Python is popular because it is easy to learn, it is versatile and has a huge active community.\n",
        "\n",
        "2. What is an interpretor in Python?\n",
        "      - Python is an interpreted language which means that the code in python is executed line by line.\n",
        "\n",
        "3. What are pre-defined keywords in Python?\n",
        "      - Pre-defined keywords hold a special meaning and have a specific purpose in Python programming.The predefined keywords cannot be used as variables or identifiers.\n",
        "\n",
        "4. Can Keywords be used as variable names?\n",
        "     - No\n",
        "\n",
        "5. What is mutability in Python?\n",
        "     - In Python, the objects or containers whose state or value can be changed after they are created are called as mutable objects or containers and they support item assignment.List is an example of mutable object.\n",
        "\n",
        "6. Why are lists mutable, but tuples are immutable?\n",
        "     - Lists are mutable as it supports item assignment while tuples doesnt support item assignment which makes it immutable.\n",
        "\n",
        "7. What is the difference between \"==\" and \"is\" operators in Python?\n",
        "     - The \"==\" is a comparison operator, it compares two values and returns a boolean value.\n",
        "        \n",
        "      'Is' is an assignment operator and checks if two variables point to the same object in memory.\n",
        "\n",
        "8. What are logical operators in Python?\n",
        "    - Logical operators are used to combine or modify boolean value. 'and', 'or', and 'not' are logical operators.\n",
        "\n",
        "9. What is type casting in python?\n",
        "    - The process of changing the data type of a value or object in python is known as type casting.\n",
        "\n",
        "10. What is the difference between implicit and explicit type casting?\n",
        "    - Implicit type casting is a type casting which happens automatically without using any inbuilt functions while explicit type casting converts the data type using the inbuilt functions and requires a programmer to type cast.\n",
        "\n",
        "11. What is the purpose of conditional statements in Python?\n",
        "    - Conditional statements refers to the mechanism that govern the order in which statements and instructions are executed. These statements help to code decisions based on some preconditions. Conditional statements in python are:\n",
        "    >if statement, elif statement, if-else-elif statement, nested if-else statement.\n",
        "\n",
        "12. How does the elif statement work?\n",
        "    - The elif statement is a conditional statement that is used to check multiple conditions. If the first condition is false, it moves on the next 'elif' statement to check if the condition is true. If none of the conditions are true, the code will execute else statement.\n",
        "\n",
        "13. What is the difference between for and while loops?\n",
        "    - While Loop repeatedly executes a block of code until a condition is met.In while loop no. of iterations are not fixed whereas For loop iterate over a sequence of elements usually when the number of iterations are known beforehand.\n",
        "\n",
        "14. Describe a scenario where a while loop is more suitable than a for loop?\n",
        "    - A while loop is more suitable than a for loop in Python when we repeatedly ask for user input until valid data is provided. e.g presenting a menu to a user and repeatedly asking for input until a valid choice is made.\n",
        "\n"
      ],
      "metadata": {
        "id": "KYN5cJQ4ijNh"
      }
    },
    {
      "cell_type": "code",
      "source": [
        "# Practical Questions\n",
        "#1. Write a python program to print Hello, World!\n",
        "print(\"Hello, World!\")\n"
      ],
      "metadata": {
        "colab": {
          "base_uri": "https://localhost:8080/"
        },
        "id": "ZRhelrHMAxMB",
        "outputId": "c247d65b-46e8-41ca-b578-1db2728c9a97"
      },
      "execution_count": 2,
      "outputs": [
        {
          "output_type": "stream",
          "name": "stdout",
          "text": [
            "Hello, World!\n"
          ]
        }
      ]
    },
    {
      "cell_type": "code",
      "source": [
        "#2. Write a Python program that displays your name and age?\n",
        "Name = 'Deeba'\n",
        "Age = '40'\n",
        "print(Name)\n",
        "\n",
        "print(Age)"
      ],
      "metadata": {
        "colab": {
          "base_uri": "https://localhost:8080/"
        },
        "id": "IThiApFQBkkt",
        "outputId": "118df7fe-d5e8-4f54-b7d3-caf5c4e6fe79"
      },
      "execution_count": 6,
      "outputs": [
        {
          "output_type": "stream",
          "name": "stdout",
          "text": [
            "Deeba\n",
            "40\n"
          ]
        }
      ]
    },
    {
      "cell_type": "code",
      "source": [
        "#3. write a code to print all the pre-defined keywords in python using keyword library?\n",
        "\n",
        "import keyword\n",
        "keywords = keyword.kwlist\n",
        "print(keywords)"
      ],
      "metadata": {
        "colab": {
          "base_uri": "https://localhost:8080/"
        },
        "id": "b8RwIVyHCTub",
        "outputId": "8a18315a-012c-48a0-ac5c-19e3553ecd52"
      },
      "execution_count": 21,
      "outputs": [
        {
          "output_type": "stream",
          "name": "stdout",
          "text": [
            "['False', 'None', 'True', 'and', 'as', 'assert', 'async', 'await', 'break', 'class', 'continue', 'def', 'del', 'elif', 'else', 'except', 'finally', 'for', 'from', 'global', 'if', 'import', 'in', 'is', 'lambda', 'nonlocal', 'not', 'or', 'pass', 'raise', 'return', 'try', 'while', 'with', 'yield']\n"
          ]
        }
      ]
    },
    {
      "cell_type": "code",
      "source": [
        "#4. write a program that checks if a given word is a python keyword?\n",
        "\n",
        "import keyword\n",
        "\n",
        "word =input(\"Enter a word:\")\n",
        "if keyword.iskeyword(word):\n",
        "  print(f\"'{word}'is a python keyword\")\n",
        "else:\n",
        "    print(f\"'{word}'is not a python keyword\")"
      ],
      "metadata": {
        "colab": {
          "base_uri": "https://localhost:8080/"
        },
        "id": "u_zk8PXnGUAs",
        "outputId": "7f45130e-9b25-44de-9281-d71a0c183c61"
      },
      "execution_count": 33,
      "outputs": [
        {
          "output_type": "stream",
          "name": "stdout",
          "text": [
            "Enter a word:while\n",
            "'while'is a python keyword\n"
          ]
        }
      ]
    },
    {
      "cell_type": "code",
      "source": [
        "list = [1,2,3,4,5,6,]\n",
        "tuple = (1,2,3,4,\"sunglasses\",2.5)\n",
        "list[0] = 100\n",
        "print(list)\n",
        "tuple[0] =20\n",
        "print(tuple)\n",
        "\n"
      ],
      "metadata": {
        "colab": {
          "base_uri": "https://localhost:8080/",
          "height": 233
        },
        "id": "K4M_2SV1KDDV",
        "outputId": "d92a5776-1596-46dc-c7a5-c87ca773bb38"
      },
      "execution_count": 51,
      "outputs": [
        {
          "output_type": "stream",
          "name": "stdout",
          "text": [
            "[100, 2, 3, 4, 5, 6]\n"
          ]
        },
        {
          "output_type": "error",
          "ename": "TypeError",
          "evalue": "'tuple' object does not support item assignment",
          "traceback": [
            "\u001b[0;31m---------------------------------------------------------------------------\u001b[0m",
            "\u001b[0;31mTypeError\u001b[0m                                 Traceback (most recent call last)",
            "\u001b[0;32m<ipython-input-51-25dd300c8988>\u001b[0m in \u001b[0;36m<cell line: 0>\u001b[0;34m()\u001b[0m\n\u001b[1;32m      3\u001b[0m \u001b[0mlist\u001b[0m\u001b[0;34m[\u001b[0m\u001b[0;36m0\u001b[0m\u001b[0;34m]\u001b[0m \u001b[0;34m=\u001b[0m \u001b[0;36m100\u001b[0m\u001b[0;34m\u001b[0m\u001b[0;34m\u001b[0m\u001b[0m\n\u001b[1;32m      4\u001b[0m \u001b[0mprint\u001b[0m\u001b[0;34m(\u001b[0m\u001b[0mlist\u001b[0m\u001b[0;34m)\u001b[0m\u001b[0;34m\u001b[0m\u001b[0;34m\u001b[0m\u001b[0m\n\u001b[0;32m----> 5\u001b[0;31m \u001b[0mtuple\u001b[0m\u001b[0;34m[\u001b[0m\u001b[0;36m0\u001b[0m\u001b[0;34m]\u001b[0m \u001b[0;34m=\u001b[0m\u001b[0;36m20\u001b[0m\u001b[0;34m\u001b[0m\u001b[0;34m\u001b[0m\u001b[0m\n\u001b[0m\u001b[1;32m      6\u001b[0m \u001b[0mprint\u001b[0m\u001b[0;34m(\u001b[0m\u001b[0mtuple\u001b[0m\u001b[0;34m)\u001b[0m\u001b[0;34m\u001b[0m\u001b[0;34m\u001b[0m\u001b[0m\n\u001b[1;32m      7\u001b[0m \u001b[0;34m\u001b[0m\u001b[0m\n",
            "\u001b[0;31mTypeError\u001b[0m: 'tuple' object does not support item assignment"
          ]
        }
      ]
    },
    {
      "cell_type": "code",
      "source": [
        "# 6. Write a function to demostrate the behaviour of mutable and immutable arguments?\n"
      ],
      "metadata": {
        "id": "-yJmGxcsMdW-"
      },
      "execution_count": null,
      "outputs": []
    },
    {
      "cell_type": "code",
      "source": [
        "# 7. Write a program that performs basic arithmetic operations on two user - input numbers?\n",
        "\n",
        "num1 = float(input('Enter the first number'))\n",
        "num2= float(input('Enter the second number'))\n",
        "print(num1+num2)\n",
        "print(num1-num2)\n",
        "print(num1*num2)\n",
        "print(num1/num2)\n"
      ],
      "metadata": {
        "colab": {
          "base_uri": "https://localhost:8080/"
        },
        "id": "jFR38UoqN5u9",
        "outputId": "07b0229e-8ea5-4390-bef0-d6ccebc2b997"
      },
      "execution_count": 52,
      "outputs": [
        {
          "output_type": "stream",
          "name": "stdout",
          "text": [
            "Enter the first number2\n",
            "Enter the second number7\n",
            "9.0\n",
            "-5.0\n",
            "14.0\n",
            "0.2857142857142857\n"
          ]
        }
      ]
    },
    {
      "cell_type": "code",
      "source": [
        "# 8. Write a program to demonstrate the use of logical operators?\n",
        "\n",
        "x = True\n",
        "y = False\n",
        "print(x and y)\n",
        "print(x or y)\n",
        "print(not y)"
      ],
      "metadata": {
        "colab": {
          "base_uri": "https://localhost:8080/"
        },
        "id": "FaFCxz4GQQoi",
        "outputId": "dcf6f562-e520-4753-823a-b9ec0fbde281"
      },
      "execution_count": 57,
      "outputs": [
        {
          "output_type": "stream",
          "name": "stdout",
          "text": [
            "False\n",
            "True\n",
            "True\n"
          ]
        }
      ]
    },
    {
      "cell_type": "code",
      "source": [
        "# 9. Write a Python program to convert user input from string to integer, float, and boolean types?\n",
        "\n",
        "a = \"2\"\n",
        "b = 3\n",
        "c= 7.9\n",
        "print(int(a))\n",
        "print(float(b))\n",
        "print(bool(c))"
      ],
      "metadata": {
        "colab": {
          "base_uri": "https://localhost:8080/"
        },
        "id": "Kw1kH3wTROxp",
        "outputId": "bc603d18-9f6f-4270-d099-dd361be56028"
      },
      "execution_count": 60,
      "outputs": [
        {
          "output_type": "stream",
          "name": "stdout",
          "text": [
            "2\n",
            "3.0\n",
            "True\n"
          ]
        }
      ]
    },
    {
      "cell_type": "code",
      "source": [
        "# 10. write a code to demonstrate type casting with list elements?\n",
        "list_typecasting = ['1','2','3','4','5','6','7','9']\n",
        "print(list_typecasting)\n",
        "float(list_typecasting[0])"
      ],
      "metadata": {
        "colab": {
          "base_uri": "https://localhost:8080/"
        },
        "id": "eBmA0EGDS-7c",
        "outputId": "0aa2ad3d-2377-4c0f-e875-eaff0aa2fba7"
      },
      "execution_count": 69,
      "outputs": [
        {
          "output_type": "stream",
          "name": "stdout",
          "text": [
            "['1', '2', '3', '4', '5', '6', '7', '9']\n"
          ]
        },
        {
          "output_type": "execute_result",
          "data": {
            "text/plain": [
              "1.0"
            ]
          },
          "metadata": {},
          "execution_count": 69
        }
      ]
    },
    {
      "cell_type": "code",
      "source": [
        "# 11. Write a programme that checks if a no. is positive, negative or zero?\n",
        "\n",
        "number = float(input(\"Enter a no.\"))\n",
        "if number > 0:\n",
        "  print(\"The no. is Positive\")\n",
        "elif number < 0:\n",
        "  print(\"The no. is negative\")\n",
        "else:\n",
        "  print(\"The no. is zero\")\n",
        "\n"
      ],
      "metadata": {
        "colab": {
          "base_uri": "https://localhost:8080/"
        },
        "id": "W58QVH8YVnTO",
        "outputId": "893a38e9-1846-4074-ec7e-315bb49a9ae5"
      },
      "execution_count": 89,
      "outputs": [
        {
          "output_type": "stream",
          "name": "stdout",
          "text": [
            "Enter a no.0\n",
            "The no. is zero\n"
          ]
        }
      ]
    },
    {
      "cell_type": "code",
      "source": [
        "#12. Write a for loop to print numbers from 1 to 10?\n",
        "\n",
        "for i in range(1,11):\n",
        "  print(i)"
      ],
      "metadata": {
        "colab": {
          "base_uri": "https://localhost:8080/"
        },
        "id": "w_aFEkMeZAOE",
        "outputId": "017782c6-7a59-41fc-d2cf-fcdd2ea2a05c"
      },
      "execution_count": 90,
      "outputs": [
        {
          "output_type": "stream",
          "name": "stdout",
          "text": [
            "1\n",
            "2\n",
            "3\n",
            "4\n",
            "5\n",
            "6\n",
            "7\n",
            "8\n",
            "9\n",
            "10\n"
          ]
        }
      ]
    },
    {
      "cell_type": "code",
      "source": [
        "# 13 . Write a python program to find the sum of all even numbers  between 1 and 50?\n",
        "\n",
        "start_number = 1\n",
        "end_number = 50\n",
        "sum = 0\n",
        "for i in range(start_number,end_number+1):\n",
        "  if i % 2 ==0:\n",
        "    sum  = sum + i\n",
        "    print(sum)\n",
        "\n",
        "\n"
      ],
      "metadata": {
        "colab": {
          "base_uri": "https://localhost:8080/"
        },
        "id": "eAydC3_-Zobb",
        "outputId": "3871ab6b-027a-4016-e0ec-771106b4f23b"
      },
      "execution_count": 91,
      "outputs": [
        {
          "output_type": "stream",
          "name": "stdout",
          "text": [
            "2\n",
            "6\n",
            "12\n",
            "20\n",
            "30\n",
            "42\n",
            "56\n",
            "72\n",
            "90\n",
            "110\n",
            "132\n",
            "156\n",
            "182\n",
            "210\n",
            "240\n",
            "272\n",
            "306\n",
            "342\n",
            "380\n",
            "420\n",
            "462\n",
            "506\n",
            "552\n",
            "600\n",
            "650\n"
          ]
        }
      ]
    },
    {
      "cell_type": "code",
      "source": [
        "# 14. Write a program to reverse a string using a while loop?\n",
        "\n",
        "string = ('welcome to python')\n",
        "print(string[::-1])"
      ],
      "metadata": {
        "colab": {
          "base_uri": "https://localhost:8080/"
        },
        "id": "QqRVtsvjboKC",
        "outputId": "34029c1a-4d8d-4263-bdb8-35839a9f9b3f"
      },
      "execution_count": 92,
      "outputs": [
        {
          "output_type": "stream",
          "name": "stdout",
          "text": [
            "nohtyp ot emoclew\n"
          ]
        }
      ]
    },
    {
      "cell_type": "code",
      "source": [
        "# Write a python program to calculate the factorial of a number provided by the user using a while loop?\n",
        "\n",
        "Number = int(input('Enter a number'))\n",
        "factorial = 1\n",
        "while Number > 0:\n",
        "  factorial = factorial * Number\n",
        "  Number = Number - 1\n",
        "  print(factorial)\n"
      ],
      "metadata": {
        "colab": {
          "base_uri": "https://localhost:8080/"
        },
        "id": "AhVL_rxDdf3f",
        "outputId": "a2cec33b-e60d-49bc-f3a7-9575704f27f9"
      },
      "execution_count": 93,
      "outputs": [
        {
          "output_type": "stream",
          "name": "stdout",
          "text": [
            "Enter a number7\n",
            "7\n",
            "42\n",
            "210\n",
            "840\n",
            "2520\n",
            "5040\n",
            "5040\n"
          ]
        }
      ]
    }
  ]
}